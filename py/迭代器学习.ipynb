{
 "cells": [
  {
   "cell_type": "code",
   "execution_count": 1,
   "metadata": {},
   "outputs": [
    {
     "name": "stdout",
     "output_type": "stream",
     "text": [
      "True\n"
     ]
    }
   ],
   "source": [
    "from collections.abc import Iterable, Iterator\n",
    "class A(object):\n",
    "    def __init__(self):\n",
    "        self.a = [1, 2, 3]\n",
    "    # 实现了__iter__方法就是一个可迭代对象\n",
    "    def __iter__(self):\n",
    "        # 此处返回啥无所谓\n",
    "        return self.a\n",
    "\n",
    "cls_a = A()\n",
    "#  True\n",
    "print(isinstance(cls_a, Iterable))"
   ]
  },
  {
   "cell_type": "markdown",
   "metadata": {},
   "source": [
    "https://zhuanlan.zhihu.com/p/340465632"
   ]
  },
  {
   "cell_type": "code",
   "execution_count": 2,
   "metadata": {},
   "outputs": [
    {
     "ename": "TypeError",
     "evalue": "iter() returned non-iterator of type 'list'",
     "output_type": "error",
     "traceback": [
      "\u001b[0;31m---------------------------------------------------------------------------\u001b[0m",
      "\u001b[0;31mTypeError\u001b[0m                                 Traceback (most recent call last)",
      "\u001b[1;32m/Users/liangchen/PycharmProjects/mmdet_demo/py/迭代器学习.ipynb Cell 2\u001b[0m in \u001b[0;36m<cell line: 1>\u001b[0;34m()\u001b[0m\n\u001b[0;32m----> <a href='vscode-notebook-cell:/Users/liangchen/PycharmProjects/mmdet_demo/py/%E8%BF%AD%E4%BB%A3%E5%99%A8%E5%AD%A6%E4%B9%A0.ipynb#W1sZmlsZQ%3D%3D?line=0'>1</a>\u001b[0m \u001b[39mfor\u001b[39;00m a \u001b[39min\u001b[39;00m cls_a:\n\u001b[1;32m      <a href='vscode-notebook-cell:/Users/liangchen/PycharmProjects/mmdet_demo/py/%E8%BF%AD%E4%BB%A3%E5%99%A8%E5%AD%A6%E4%B9%A0.ipynb#W1sZmlsZQ%3D%3D?line=1'>2</a>\u001b[0m     \u001b[39mprint\u001b[39m(a)\n",
      "\u001b[0;31mTypeError\u001b[0m: iter() returned non-iterator of type 'list'"
     ]
    }
   ],
   "source": [
    "# 仅实现可迭代对象无法完成迭代\n",
    "for a in cls_a:\n",
    "    print(a)"
   ]
  },
  {
   "cell_type": "code",
   "execution_count": 2,
   "metadata": {},
   "outputs": [
    {
     "name": "stdout",
     "output_type": "stream",
     "text": [
      "True\n",
      "True\n",
      "True\n",
      "1\n",
      "2\n",
      "3\n"
     ]
    }
   ],
   "source": [
    "class A(object):\n",
    "    def __init__(self):\n",
    "        self.index = -1\n",
    "        self.a = [1, 2, 3]\n",
    "\n",
    "    # 必须要返回一个实现了 __next__ 方法的对象，否则后面无法 for 遍历\n",
    "    # 因为本类自身实现了 __next__，所以通常都是返回 self 对象即可\n",
    "    def __iter__(self):\n",
    "        return self\n",
    "\n",
    "    def __next__(self):\n",
    "        self.index += 1\n",
    "        if self.index < len(self.a):\n",
    "            return self.a[self.index]\n",
    "        else:\n",
    "            # 抛异常，for 内部会自动捕获，表示迭代完成\n",
    "            raise StopIteration(\"遍历完了\")\n",
    "\n",
    "cls_a = A()\n",
    "print(isinstance(cls_a, Iterable)) # True\n",
    "print(isinstance(cls_a, Iterator)) # True\n",
    "print(isinstance(iter(cls_a), Iterator)) # True\n",
    "\n",
    "for a in cls_a:\n",
    "    print(a)"
   ]
  },
  {
   "cell_type": "code",
   "execution_count": 9,
   "metadata": {},
   "outputs": [
    {
     "name": "stdout",
     "output_type": "stream",
     "text": [
      "True\n",
      "False\n",
      "__next__()方法实现 False\n",
      "------------------------------\n",
      "True\n",
      "True\n",
      "__next__()方法实现 True\n"
     ]
    }
   ],
   "source": [
    "# 可以看到内置对象list本身就是可迭代对象\n",
    "x = [i for i in range(5)]\n",
    "print(isinstance(x, Iterable))\n",
    "print(isinstance(x, Iterator))\n",
    "print('__next__()方法实现:' ,'__next__' in dir(x))\n",
    "print('-'*30)\n",
    "# 通过iter()方法，自动补全__next__()方法，可迭代->迭代器\n",
    "x = iter(x)\n",
    "print(isinstance(x, Iterable))\n",
    "print(isinstance(x, Iterator))\n",
    "print('__next__()方法实现:' ,'__next__' in dir(x))"
   ]
  },
  {
   "cell_type": "code",
   "execution_count": 10,
   "metadata": {},
   "outputs": [
    {
     "name": "stdout",
     "output_type": "stream",
     "text": [
      "True\n",
      "False\n",
      "1\n",
      "2\n",
      "3\n"
     ]
    }
   ],
   "source": [
    "# 鉴于iter()的特性，可以省略显示实现__next__() 直接在__iter__()中调用iter()方法，自动实现__iter__()\n",
    "class A(object):\n",
    "    def __init__(self):\n",
    "        self.a = [1, 2, 3]\n",
    "    # 我们内部又调用了 list 对象的 __iter__ 方法，故此时返回的对象是迭代器对象\n",
    "    def __iter__(self):\n",
    "        return iter(self.a)\n",
    "\n",
    "cls_a = A()\n",
    "print(isinstance(cls_a, Iterable)) # True\n",
    "print(isinstance(cls_a, Iterator)) # False\n",
    "\n",
    "for a in cls_a:\n",
    "    print(a)"
   ]
  }
 ],
 "metadata": {
  "kernelspec": {
   "display_name": "Python 3.8.13 ('base')",
   "language": "python",
   "name": "python3"
  },
  "language_info": {
   "codemirror_mode": {
    "name": "ipython",
    "version": 3
   },
   "file_extension": ".py",
   "mimetype": "text/x-python",
   "name": "python",
   "nbconvert_exporter": "python",
   "pygments_lexer": "ipython3",
   "version": "3.8.13"
  },
  "orig_nbformat": 4,
  "vscode": {
   "interpreter": {
    "hash": "499748a92cda18051bec9077720b70825b27adae8807334046b8e52396202253"
   }
  }
 },
 "nbformat": 4,
 "nbformat_minor": 2
}
